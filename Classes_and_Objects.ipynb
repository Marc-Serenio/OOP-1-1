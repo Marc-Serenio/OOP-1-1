{
  "nbformat": 4,
  "nbformat_minor": 0,
  "metadata": {
    "colab": {
      "name": "Classes and Objects.ipynb",
      "provenance": [],
      "authorship_tag": "ABX9TyNKUjsXPxNAae+ARKYMAuHo",
      "include_colab_link": true
    },
    "kernelspec": {
      "name": "python3",
      "display_name": "Python 3"
    },
    "language_info": {
      "name": "python"
    }
  },
  "cells": [
    {
      "cell_type": "markdown",
      "metadata": {
        "id": "view-in-github",
        "colab_type": "text"
      },
      "source": [
        "<a href=\"https://colab.research.google.com/github/Marc-Serenio/OOP-1-1/blob/main/Classes_and_Objects.ipynb\" target=\"_parent\"><img src=\"https://colab.research.google.com/assets/colab-badge.svg\" alt=\"Open In Colab\"/></a>"
      ]
    },
    {
      "cell_type": "markdown",
      "source": [
        "Application 2 - Write a python program that displays the Full name of a student, student number, age,course, and school. Create a class name OOP_1-1and create Info()method to display the information of a student with fullname, student_no, age, course, school as attributes "
      ],
      "metadata": {
        "id": "fT3EihYQFV0a"
      }
    },
    {
      "cell_type": "code",
      "source": [
        "class OOP_1_1:\n",
        "  def __init__(self,fullname,student_no,age,course,school):\n",
        "    self.fullname = fullname\n",
        "    self.student_no = student_no\n",
        "    self.age = age\n",
        "    self.course = course\n",
        "    self.school = school\n",
        "\n",
        "  def info(self):\n",
        "    print(self.fullname,self.student_no,self.age,self.course,self.school)\n",
        "\n",
        "student = OOP_1_1(\"Marc Jay D. Serenio\",202102057,19,\"BSCpE\",\"CVSU\")\n",
        "student.info()"
      ],
      "metadata": {
        "colab": {
          "base_uri": "https://localhost:8080/"
        },
        "id": "Fy9imc45FW5Y",
        "outputId": "bc5c8877-2778-4e0c-b25c-baac7497581e"
      },
      "execution_count": 1,
      "outputs": [
        {
          "output_type": "stream",
          "name": "stdout",
          "text": [
            "Marc Jay D. Serenio 202102057 19 BSCpE CVSU\n"
          ]
        }
      ]
    },
    {
      "cell_type": "code",
      "source": [
        "class OOP_1_1:\n",
        "  def __init__(self,fullname,student_no,age,course,school):\n",
        "    self.fullname = fullname\n",
        "    self.student_no = student_no\n",
        "    self.age = age\n",
        "    self.course = course\n",
        "    self.school = school\n",
        "\n",
        "  def info(self):\n",
        "    print(self.fullname,self.student_no,self.age,self.course,self.school)\n",
        "    #print(\"My Name is\",self.fullname)\n",
        "    #print(\"My Name is\",self.student_no)\n",
        "    #print(\"My Name is\",self.age)\n",
        "    #print(\"My Name is\",self.course)\n",
        "    #print(\"My Name is\",self.school)\n",
        "\n",
        "  \n",
        "\n",
        "student = OOP_1_1(\"Marc Jay D. Serenio\",202102057,19,\"BSCpE\",\"CVSU\")\n",
        "student.info()"
      ],
      "metadata": {
        "colab": {
          "base_uri": "https://localhost:8080/"
        },
        "id": "BkE7-NFjGpuQ",
        "outputId": "998ce795-9d45-4cca-e00f-2ff98afbbb1a"
      },
      "execution_count": 6,
      "outputs": [
        {
          "output_type": "stream",
          "name": "stdout",
          "text": [
            "Marc Jay D. Serenio 202102057 19 BSCpE CVSU\n"
          ]
        }
      ]
    },
    {
      "cell_type": "code",
      "source": [
        "class Circle:\n",
        "   def __init__(self,r):\n",
        "      self.radius = r\n",
        "     \n",
        "\n",
        "   def area(self):\n",
        "     return self.radius**2*3.14\n",
        "    \n",
        "   def perimeter(self):\n",
        "     return 2*self.radius*3.14\n",
        "\n",
        "NewCircle = Circle(8)\n",
        "print(NewCircle.area())\n",
        "print(NewCircle.perimeter())"
      ],
      "metadata": {
        "colab": {
          "base_uri": "https://localhost:8080/"
        },
        "id": "QSnnbF8cJUd7",
        "outputId": "1bb5f8f3-5f12-44cd-f8b8-a7516c207b61"
      },
      "execution_count": 7,
      "outputs": [
        {
          "output_type": "stream",
          "name": "stdout",
          "text": [
            "200.96\n",
            "50.24\n"
          ]
        }
      ]
    }
  ]
}