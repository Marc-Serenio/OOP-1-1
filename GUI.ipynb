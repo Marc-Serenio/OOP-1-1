{
  "nbformat": 4,
  "nbformat_minor": 0,
  "metadata": {
    "colab": {
      "name": "GUI.ipynb",
      "provenance": [],
      "authorship_tag": "ABX9TyOANRW2wDvPw0o7zvGcVY/R",
      "include_colab_link": true
    },
    "kernelspec": {
      "name": "python3",
      "display_name": "Python 3"
    },
    "language_info": {
      "name": "python"
    }
  },
  "cells": [
    {
      "cell_type": "markdown",
      "metadata": {
        "id": "view-in-github",
        "colab_type": "text"
      },
      "source": [
        "<a href=\"https://colab.research.google.com/github/Marc-Serenio/OOP-1-1/blob/main/GUI.ipynb\" target=\"_parent\"><img src=\"https://colab.research.google.com/assets/colab-badge.svg\" alt=\"Open In Colab\"/></a>"
      ]
    },
    {
      "cell_type": "markdown",
      "source": [
        "Students' Grade in OOP subject"
      ],
      "metadata": {
        "id": "i3h4JSU_RmK-"
      }
    },
    {
      "cell_type": "code",
      "source": [
        "#@title Students' Grade in OOP\n",
        "Student_Name =\"Marc Jay D. Serenio\" #@param {type:\"string\"}\n",
        "prelim = 95 #@param {type:'number'}\n",
        "midterm = 85 #@param {type:'number'}\n",
        "final = 100 #@param {type:'number'}\n",
        "semestral_grade = round((prelim+midterm+final)/3,2)\n",
        "\n",
        "print(\"My prelim grade is \"+ str(prelim))\n",
        "print(\"My prelim grade is \"+ str(midterm))\n",
        "print(\"My prelim grade is \"+ str(final))\n",
        "print(\"My semestral grade is :\"+str(semestral_grade))\n",
        "\n",
        "Gender = \"Male\" #@param[\"Male\",\"Female\"]\n",
        "BirthDate = '10-19-2002'#@param{type:\"date\"}\n"
      ],
      "metadata": {
        "colab": {
          "base_uri": "https://localhost:8080/"
        },
        "id": "F4xPqkfCU7mq",
        "outputId": "ab8f70db-68e8-4775-d185-78945793565a"
      },
      "execution_count": 32,
      "outputs": [
        {
          "output_type": "stream",
          "name": "stdout",
          "text": [
            "My prelim grade is 95\n",
            "My prelim grade is 85\n",
            "My prelim grade is 100\n",
            "My semestral grade is :93.33\n"
          ]
        }
      ]
    }
  ]
}