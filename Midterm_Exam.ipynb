{
  "nbformat": 4,
  "nbformat_minor": 0,
  "metadata": {
    "colab": {
      "name": "Midterm Exam.ipynb",
      "provenance": [],
      "collapsed_sections": [],
      "authorship_tag": "ABX9TyOV6SfxQ8bfH9/u8aywin4F",
      "include_colab_link": true
    },
    "kernelspec": {
      "name": "python3",
      "display_name": "Python 3"
    },
    "language_info": {
      "name": "python"
    }
  },
  "cells": [
    {
      "cell_type": "markdown",
      "metadata": {
        "id": "view-in-github",
        "colab_type": "text"
      },
      "source": [
        "<a href=\"https://colab.research.google.com/github/Marc-Serenio/OOP-1-1/blob/main/Midterm_Exam.ipynb\" target=\"_parent\"><img src=\"https://colab.research.google.com/assets/colab-badge.svg\" alt=\"Open In Colab\"/></a>"
      ]
    },
    {
      "cell_type": "code",
      "execution_count": 24,
      "metadata": {
        "colab": {
          "base_uri": "https://localhost:8080/"
        },
        "id": "SyMf8O51Hec_",
        "outputId": "905586ea-5887-494b-ef4e-ea20a300e5d0"
      },
      "outputs": [
        {
          "output_type": "stream",
          "name": "stdout",
          "text": [
            "Enter the temperature in Celsius:35\n",
            "308.15Kelvin\n",
            "95.0Fahrenheit\n",
            "Enter the temperature in Fahrenheit:37\n",
            "2.7777777777777777Celsius\n",
            "Enter the temperature in Kelvin:26\n",
            "-247.14999999999998Celsius\n"
          ]
        }
      ],
      "source": [
        "class TemperatureConversion:\n",
        "  def __init__(self, temp=1):\n",
        "    self._temp = temp\n",
        "\n",
        "class CelsiusToFahrenheit(TemperatureConversion):\n",
        "  def conversion(self):\n",
        "    return (self._temp * 9) / 5 + 32\n",
        "\n",
        "class CelsiusToKelvin(TemperatureConversion):\n",
        "  def conversion(self):\n",
        "    return self._temp + 273.15\n",
        "\n",
        "class FahrenheitToCelsius(TemperatureConversion):\n",
        "  def conversion(self):\n",
        "    return (self._temp - 32)*5/9\n",
        "class KelvinToCelsius (TemperatureConversion):\n",
        "  def conversion(self):\n",
        "    return self._temp - 273.15\n",
        "\n",
        "tempInCelsius = float(input(\"Enter the temperature in Celsius:\"))\n",
        "convert = CelsiusToKelvin(tempInCelsius)\n",
        "print(str(convert.conversion()) + \"Kelvin\")\n",
        "\n",
        "convert = CelsiusToFahrenheit(tempInCelsius)\n",
        "print(str(convert.conversion()) + \"Fahrenheit\")\n",
        "\n",
        "tempInFahrenheit = float(input(\"Enter the temperature in Fahrenheit:\"))\n",
        "convert = FahrenheitToCelsius(tempInFahrenheit)\n",
        "print(str(convert.conversion()) + \"Celsius\")\n",
        "\n",
        "tempInKelvin = float(input(\"Enter the temperature in Kelvin:\"))\n",
        "convert = KelvinToCelsius(tempInKelvin)\n",
        "print(str(convert.conversion()) + \"Celsius\")\n",
        "\n",
        "\n",
        "\n"
      ]
    }
  ]
}