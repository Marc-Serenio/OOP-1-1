{
  "cells": [
    {
      "cell_type": "markdown",
      "metadata": {
        "id": "view-in-github",
        "colab_type": "text"
      },
      "source": [
        "<a href=\"https://colab.research.google.com/github/Marc-Serenio/OOP-1-1/blob/main/OOP_Concepts_2.ipynb\" target=\"_parent\"><img src=\"https://colab.research.google.com/assets/colab-badge.svg\" alt=\"Open In Colab\"/></a>"
      ]
    },
    {
      "cell_type": "markdown",
      "metadata": {
        "id": "z6l8uPgBMUiv"
      },
      "source": [
        "Classes with Multiple Objects"
      ]
    },
    {
      "cell_type": "code",
      "execution_count": null,
      "metadata": {
        "colab": {
          "base_uri": "https://localhost:8080/"
        },
        "id": "EiYkuS3CMYUN",
        "outputId": "60363038-1159-4a7c-e055-b782c56f5824"
      },
      "outputs": [
        {
          "name": "stdout",
          "output_type": "stream",
          "text": [
            "Griffon Vultureflies above the sky\n",
            "Common Craneflies above the sky\n",
            "Emu is the national bird of Austrilla\n"
          ]
        }
      ],
      "source": [
        "class Birds:\n",
        "  def __init__(self,birds_name):\n",
        "    self.birds_name = birds_name\n",
        "  def flying_birds(self):\n",
        "    print(f\"{self.birds_name}flies above the sky\")\n",
        "  def non_flying_birds(self):\n",
        "    print(f\"{self.birds_name} is the national bird of Austrilla\")\n",
        "\n",
        "vulture = Birds (\"Griffon Vulture\")\n",
        "crane = Birds (\"Common Crane\")\n",
        "emu = Birds(\"Emu\")\n",
        "\n",
        "vulture.flying_birds()\n",
        "crane.flying_birds()\n",
        "emu.non_flying_birds()"
      ]
    },
    {
      "cell_type": "markdown",
      "metadata": {
        "id": "I9jMvjW3Pkjs"
      },
      "source": [
        "Encapsulation (mangling with double underscore)"
      ]
    },
    {
      "cell_type": "code",
      "execution_count": null,
      "metadata": {
        "colab": {
          "base_uri": "https://localhost:8080/"
        },
        "id": "O0y5Opo0PURw",
        "outputId": "cec3e7b8-112a-41d5-cc96-ee0d54240624"
      },
      "outputs": [
        {
          "data": {
            "text/plain": [
              "7"
            ]
          },
          "execution_count": 5,
          "metadata": {},
          "output_type": "execute_result"
        }
      ],
      "source": [
        "class foo:\n",
        "  def __init__(self,a,b):\n",
        "    self.__a = a\n",
        "    self.__b = b\n",
        "\n",
        "  def add(self):\n",
        "    return self.__a + self.__b\n",
        "\n",
        "object_foo = foo(3,4)\n",
        "object_foo.add()\n",
        "\n",
        "object_foo.a = 6\n",
        "object_foo.b = 7\n",
        "object_foo.add()"
      ]
    },
    {
      "cell_type": "code",
      "execution_count": null,
      "metadata": {
        "colab": {
          "base_uri": "https://localhost:8080/"
        },
        "id": "3DKAuLuqSWPR",
        "outputId": "3ff1465c-6ddb-4dd8-b81a-f0f702151213"
      },
      "outputs": [
        {
          "name": "stdout",
          "output_type": "stream",
          "text": [
            "0\n"
          ]
        }
      ],
      "source": [
        "class Counter:\n",
        "  def __init__(self):\n",
        "    self.__current = 0\n",
        "  def increment(self):\n",
        "    self.__current+= 1\n",
        "  def value(self):\n",
        "    return self.__current\n",
        "  def reset(self):\n",
        "    self.__current = 0\n",
        "\n",
        "number = Counter()\n",
        "#number.increment()\n",
        "#number.increment()\n",
        "#number.increment()\n",
        "number.__current = 1\n",
        "\n",
        "print(number.value())\n",
        "\n"
      ]
    },
    {
      "cell_type": "code",
      "execution_count": null,
      "metadata": {
        "colab": {
          "base_uri": "https://localhost:8080/"
        },
        "id": "ELR-blt6UMZp",
        "outputId": "95cb9add-4860-41f3-fcee-c4aca3485a05"
      },
      "outputs": [
        {
          "name": "stdout",
          "output_type": "stream",
          "text": [
            "3\n"
          ]
        }
      ],
      "source": [
        "class Counter:\n",
        "  def __init__(self):\n",
        "    self.current = 0\n",
        "  def increment(self):\n",
        "    self.current+= 1\n",
        "  def value(self):\n",
        "    return self.current\n",
        "  def reset(self):\n",
        "    self.__current = 0\n",
        "\n",
        "number = Counter()\n",
        "number.increment()\n",
        "number.increment()\n",
        "number.increment()\n",
        "\n",
        "print(number.value())\n"
      ]
    },
    {
      "cell_type": "markdown",
      "metadata": {
        "id": "W2vUz6d-U78Q"
      },
      "source": [
        "Inheritance"
      ]
    },
    {
      "cell_type": "code",
      "execution_count": null,
      "metadata": {
        "colab": {
          "base_uri": "https://localhost:8080/"
        },
        "id": "EA6Q0IIPU-EQ",
        "outputId": "45de137f-628b-41c4-8cde-dfb13c5f0a97"
      },
      "outputs": [
        {
          "name": "stdout",
          "output_type": "stream",
          "text": [
            "Marc Jay Serenio\n"
          ]
        }
      ],
      "source": [
        "class Person:\n",
        "  def __init__(self,firstname,surname):\n",
        "    self.firstname = firstname\n",
        "    self.surname = surname\n",
        "\n",
        "  def fullname(self):\n",
        "    print(self.firstname,self.surname)\n",
        "  \n",
        "person =Person(\"Marc Jay\",\"Serenio\")\n",
        "person.fullname()\n"
      ]
    },
    {
      "cell_type": "code",
      "execution_count": null,
      "metadata": {
        "colab": {
          "base_uri": "https://localhost:8080/"
        },
        "id": "MoSp3jp9a2Nn",
        "outputId": "6bff8a53-591b-405f-b2e4-bee188911c0b"
      },
      "outputs": [
        {
          "name": "stdout",
          "output_type": "stream",
          "text": [
            "Marc Jay Serenio\n",
            "Maam Maria\n",
            "Marc Serenio\n"
          ]
        }
      ],
      "source": [
        "class Person:\n",
        "  def __init__(self,firstname,surname):\n",
        "    self.firstname = firstname\n",
        "    self.surname =  surname\n",
        "\n",
        "  def fullname(self):\n",
        "    print(self.firstname,self.surname)\n",
        "  \n",
        "person = Person(\"Marc Jay\", \"Serenio\")\n",
        "person.fullname()\n",
        "\n",
        "class Teacher(Person):\n",
        "  pass\n",
        "\n",
        "person2 = Teacher(\"Maam\",\"Maria\")\n",
        "person2.fullname()\n",
        "\n",
        "\n",
        "class Student(Person):\n",
        "  pass\n",
        "\n",
        "person3 =Student(\"Marc\", \"Serenio\")\n",
        "person3.fullname()"
      ]
    },
    {
      "cell_type": "markdown",
      "metadata": {
        "id": "2ZjJmQI3XmKN"
      },
      "source": [
        "Polymorphism"
      ]
    },
    {
      "cell_type": "code",
      "execution_count": null,
      "metadata": {
        "colab": {
          "base_uri": "https://localhost:8080/"
        },
        "id": "vXrX2IvrXpvR",
        "outputId": "236411e6-eaf0-4be0-d41d-bf1dd8841d4c"
      },
      "outputs": [
        {
          "name": "stdout",
          "output_type": "stream",
          "text": [
            "16\n",
            "3.897\n"
          ]
        }
      ],
      "source": [
        "class RegularPolygon:\n",
        "  def __init__(self,side):\n",
        "    self.side = side\n",
        "class Square(RegularPolygon):\n",
        "  def area(self):\n",
        "    return self.side*self.side\n",
        "class EquilateralTriangle(RegularPolygon):\n",
        "  def area(self):\n",
        "    return self.side*self.side*0.433\n",
        "\n",
        "obj1 = Square(4)\n",
        "print(obj1.area())\n",
        "\n",
        "obj2 =EquilateralTriangle(3)\n",
        "print(obj2.area())\n"
      ]
    },
    {
      "cell_type": "markdown",
      "metadata": {
        "id": "TU_X63JXbm38"
      },
      "source": [
        "##Application 1\n",
        "\n",
        "1. Create a Python program that displays the name of three students ( Student 1, Student 2, and Student 3) and their term grades\n",
        "2. Create a class name Person and  attributes - std1,std2,std2,pre,mid,fin\n",
        "3. Compute the average of each term grade using Grade()method\n",
        "4. Information about student's grades must be hidden from others"
      ]
    },
    {
      "cell_type": "code",
      "execution_count": null,
      "metadata": {
        "colab": {
          "base_uri": "https://localhost:8080/"
        },
        "id": "zMrPs8MZX6n_",
        "outputId": "5ca9d5be-ed1e-4978-ccf0-3acc85da88ea"
      },
      "outputs": [
        {
          "name": "stdout",
          "output_type": "stream",
          "text": [
            "1st Semester:Term Grade \n",
            "\n",
            "Student1:1.26\n",
            "Student2:1.27\n",
            "Student3:1.55\n"
          ]
        }
      ],
      "source": [
        "class Student_grades:\n",
        "  def __init__(self,term_grade):\n",
        "    self.__term_grade = term_grade\n",
        "\n",
        "  def Terms(self):\n",
        "    print(f\"{self.__term_grade}Term Grade \\n\")\n",
        "  def student1(self):\n",
        "    print(f\"{self.__term_grade}1.26\")\n",
        "  def student2(self):\n",
        "    print(f\"{self.__term_grade}1.27\")\n",
        "  def student3(self):\n",
        "    print(f\"{self.__term_grade}1.55\")\n",
        "\n",
        "term1 = Student_grades(\"1st Semester:\")\n",
        "st_1 = Student_grades(\"Student1:\")\n",
        "st_2 = Student_grades(\"Student2:\")\n",
        "st_3 = Student_grades(\"Student3:\")\n",
        "\n",
        "term1.Terms()\n",
        "st_1.student1()\n",
        "st_2.student2()\n",
        "st_3.student3()\n"
      ]
    },
    {
      "cell_type": "code",
      "execution_count": null,
      "metadata": {
        "colab": {
          "background_save": true
        },
        "id": "O-x6mQjepJsQ",
        "outputId": "c3bec26c-be2e-414b-d3b1-6574c0e72347"
      },
      "outputs": [
        {
          "ename": "NameError",
          "evalue": "ignored",
          "output_type": "error",
          "traceback": [
            "\u001b[0;31m---------------------------------------------------------------------------\u001b[0m",
            "\u001b[0;31mNameError\u001b[0m                                 Traceback (most recent call last)",
            "\u001b[0;32m<ipython-input-22-f1a0cbf79f49>\u001b[0m in \u001b[0;36m<module>\u001b[0;34m()\u001b[0m\n\u001b[1;32m     24\u001b[0m     \u001b[0mprint\u001b[0m\u001b[0;34m(\u001b[0m\u001b[0;34mf\"{self.__term_grade}1.55\"\u001b[0m\u001b[0;34m)\u001b[0m\u001b[0;34m\u001b[0m\u001b[0;34m\u001b[0m\u001b[0m\n\u001b[1;32m     25\u001b[0m \u001b[0;34m\u001b[0m\u001b[0m\n\u001b[0;32m---> 26\u001b[0;31m \u001b[0mterm\u001b[0m \u001b[0;34m=\u001b[0m \u001b[0mExams\u001b[0m \u001b[0;34m(\u001b[0m\u001b[0;34m\"Grades:\"\u001b[0m\u001b[0;34m)\u001b[0m\u001b[0;34m\u001b[0m\u001b[0;34m\u001b[0m\u001b[0m\n\u001b[0m\u001b[1;32m     27\u001b[0m \u001b[0mstd_1\u001b[0m \u001b[0;34m=\u001b[0m \u001b[0mStudent_grades\u001b[0m \u001b[0;34m(\u001b[0m\u001b[0;34m\"std1:\"\u001b[0m\u001b[0;34m)\u001b[0m\u001b[0;34m\u001b[0m\u001b[0;34m\u001b[0m\u001b[0m\n\u001b[1;32m     28\u001b[0m \u001b[0mstd_2\u001b[0m \u001b[0;34m=\u001b[0m \u001b[0mStudent_grades\u001b[0m \u001b[0;34m(\u001b[0m\u001b[0;34m\"std2:\"\u001b[0m\u001b[0;34m)\u001b[0m\u001b[0;34m\u001b[0m\u001b[0;34m\u001b[0m\u001b[0m\n",
            "\u001b[0;31mNameError\u001b[0m: name 'Exams' is not defined"
          ]
        }
      ],
      "source": [
        "class Student_grades:\n",
        "  def __init__(self,std1,std2,std3,term_grades):\n",
        "    self.std1 = std1\n",
        "    self.std2 = std2\n",
        "    self.std3 = std3\n",
        "    self.term_grades = term_grades\n",
        "\n",
        "  def Exams(self):\n",
        "    print(f\"{self.__Student} pre,mid,fin \\n\")\n",
        "  def std1(self):\n",
        "    print(f\"{self.__std1} 1.25,1.50,1.50\")\n",
        "  def std2(self):\n",
        "    print(f\"{self.__std2} 1.27,1.50,1.75\")\n",
        "  def std3(self):\n",
        "    print(f\"{self.__std3}1.50,1.0,1.25\")\n",
        "\n",
        "  def Terms(self):\n",
        "    print(f\"{self.__term_grade}Term Grade \\n\")\n",
        "  def student1(self):\n",
        "    print(f\"{self.__term_grade}1.26\")\n",
        "  def student2(self):\n",
        "    print(f\"{self.__term_grade}1.27\")\n",
        "  def student3(self):\n",
        "    print(f\"{self.__term_grade}1.55\")\n",
        "\n",
        "term1 = Exams (\"Grades:\")\n",
        "std_1 = Student_grades (\"std1:\")\n",
        "std_2 = Student_grades (\"std2:\")\n",
        "std_3 = Student_grades (\"std3:\")\n",
        "\n",
        "term2 = Student_grades(\"1st Semester:\") \n",
        "st_1 = Student_grades(\"Std1:\")\n",
        "st_2 = Student_grades(\"Std2:\")\n",
        "st_3 = Student_grades(\"Std3:\")\n",
        "\n",
        "term1.Exams()\n",
        "st_1.std1()\n",
        "st_2.std2()\n",
        "st_3.std3()\n",
        "\n",
        "term2.Terms()\n",
        "st_1.std1()\n",
        "st_2.std2()\n",
        "st_3.std3()"
      ]
    }
  ],
  "metadata": {
    "colab": {
      "collapsed_sections": [],
      "name": "OOP Concepts 2.ipynb",
      "provenance": [],
      "authorship_tag": "ABX9TyPGvIYx50M+F938tkCBYZqP",
      "include_colab_link": true
    },
    "kernelspec": {
      "display_name": "Python 3",
      "name": "python3"
    },
    "language_info": {
      "name": "python"
    }
  },
  "nbformat": 4,
  "nbformat_minor": 0
}