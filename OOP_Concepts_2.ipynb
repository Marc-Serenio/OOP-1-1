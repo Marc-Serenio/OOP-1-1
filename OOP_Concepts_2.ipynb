{
  "cells": [
    {
      "cell_type": "markdown",
      "metadata": {
        "id": "view-in-github",
        "colab_type": "text"
      },
      "source": [
        "<a href=\"https://colab.research.google.com/github/Marc-Serenio/OOP-1-1/blob/main/OOP_Concepts_2.ipynb\" target=\"_parent\"><img src=\"https://colab.research.google.com/assets/colab-badge.svg\" alt=\"Open In Colab\"/></a>"
      ]
    },
    {
      "cell_type": "markdown",
      "metadata": {
        "id": "z6l8uPgBMUiv"
      },
      "source": [
        "Classes with Multiple Objects"
      ]
    },
    {
      "cell_type": "code",
      "execution_count": null,
      "metadata": {
        "colab": {
          "base_uri": "https://localhost:8080/"
        },
        "id": "EiYkuS3CMYUN",
        "outputId": "60363038-1159-4a7c-e055-b782c56f5824"
      },
      "outputs": [
        {
          "name": "stdout",
          "output_type": "stream",
          "text": [
            "Griffon Vultureflies above the sky\n",
            "Common Craneflies above the sky\n",
            "Emu is the national bird of Austrilla\n"
          ]
        }
      ],
      "source": [
        "class Birds:\n",
        "  def __init__(self,birds_name):\n",
        "    self.birds_name = birds_name\n",
        "  def flying_birds(self):\n",
        "    print(f\"{self.birds_name}flies above the sky\")\n",
        "  def non_flying_birds(self):\n",
        "    print(f\"{self.birds_name} is the national bird of Austrilla\")\n",
        "\n",
        "vulture = Birds (\"Griffon Vulture\")\n",
        "crane = Birds (\"Common Crane\")\n",
        "emu = Birds(\"Emu\")\n",
        "\n",
        "vulture.flying_birds()\n",
        "crane.flying_birds()\n",
        "emu.non_flying_birds()"
      ]
    },
    {
      "cell_type": "markdown",
      "metadata": {
        "id": "I9jMvjW3Pkjs"
      },
      "source": [
        "Encapsulation (mangling with double underscore)"
      ]
    },
    {
      "cell_type": "code",
      "execution_count": null,
      "metadata": {
        "colab": {
          "base_uri": "https://localhost:8080/"
        },
        "id": "O0y5Opo0PURw",
        "outputId": "cec3e7b8-112a-41d5-cc96-ee0d54240624"
      },
      "outputs": [
        {
          "data": {
            "text/plain": [
              "7"
            ]
          },
          "execution_count": 5,
          "metadata": {},
          "output_type": "execute_result"
        }
      ],
      "source": [
        "class foo:\n",
        "  def __init__(self,a,b):\n",
        "    self.__a = a\n",
        "    self.__b = b\n",
        "\n",
        "  def add(self):\n",
        "    return self.__a + self.__b\n",
        "\n",
        "object_foo = foo(3,4)\n",
        "object_foo.add()\n",
        "\n",
        "object_foo.a = 6\n",
        "object_foo.b = 7\n",
        "object_foo.add()"
      ]
    },
    {
      "cell_type": "code",
      "execution_count": null,
      "metadata": {
        "colab": {
          "base_uri": "https://localhost:8080/"
        },
        "id": "3DKAuLuqSWPR",
        "outputId": "3ff1465c-6ddb-4dd8-b81a-f0f702151213"
      },
      "outputs": [
        {
          "name": "stdout",
          "output_type": "stream",
          "text": [
            "0\n"
          ]
        }
      ],
      "source": [
        "class Counter:\n",
        "  def __init__(self):\n",
        "    self.__current = 0\n",
        "  def increment(self):\n",
        "    self.__current+= 1\n",
        "  def value(self):\n",
        "    return self.__current\n",
        "  def reset(self):\n",
        "    self.__current = 0\n",
        "\n",
        "number = Counter()\n",
        "#number.increment()\n",
        "#number.increment()\n",
        "#number.increment()\n",
        "number.__current = 1\n",
        "\n",
        "print(number.value())\n",
        "\n"
      ]
    },
    {
      "cell_type": "code",
      "execution_count": null,
      "metadata": {
        "colab": {
          "base_uri": "https://localhost:8080/"
        },
        "id": "ELR-blt6UMZp",
        "outputId": "95cb9add-4860-41f3-fcee-c4aca3485a05"
      },
      "outputs": [
        {
          "name": "stdout",
          "output_type": "stream",
          "text": [
            "3\n"
          ]
        }
      ],
      "source": [
        "class Counter:\n",
        "  def __init__(self):\n",
        "    self.current = 0\n",
        "  def increment(self):\n",
        "    self.current+= 1\n",
        "  def value(self):\n",
        "    return self.current\n",
        "  def reset(self):\n",
        "    self.__current = 0\n",
        "\n",
        "number = Counter()\n",
        "number.increment()\n",
        "number.increment()\n",
        "number.increment()\n",
        "\n",
        "print(number.value())\n"
      ]
    },
    {
      "cell_type": "markdown",
      "metadata": {
        "id": "W2vUz6d-U78Q"
      },
      "source": [
        "Inheritance"
      ]
    },
    {
      "cell_type": "code",
      "execution_count": null,
      "metadata": {
        "colab": {
          "base_uri": "https://localhost:8080/"
        },
        "id": "EA6Q0IIPU-EQ",
        "outputId": "45de137f-628b-41c4-8cde-dfb13c5f0a97"
      },
      "outputs": [
        {
          "name": "stdout",
          "output_type": "stream",
          "text": [
            "Marc Jay Serenio\n"
          ]
        }
      ],
      "source": [
        "class Person:\n",
        "  def __init__(self,firstname,surname):\n",
        "    self.firstname = firstname\n",
        "    self.surname = surname\n",
        "\n",
        "  def fullname(self):\n",
        "    print(self.firstname,self.surname)\n",
        "  \n",
        "person =Person(\"Marc Jay\",\"Serenio\")\n",
        "person.fullname()\n"
      ]
    },
    {
      "cell_type": "code",
      "execution_count": null,
      "metadata": {
        "colab": {
          "base_uri": "https://localhost:8080/"
        },
        "id": "MoSp3jp9a2Nn",
        "outputId": "6bff8a53-591b-405f-b2e4-bee188911c0b"
      },
      "outputs": [
        {
          "name": "stdout",
          "output_type": "stream",
          "text": [
            "Marc Jay Serenio\n",
            "Maam Maria\n",
            "Marc Serenio\n"
          ]
        }
      ],
      "source": [
        "class Person:\n",
        "  def __init__(self,firstname,surname):\n",
        "    self.firstname = firstname\n",
        "    self.surname =  surname\n",
        "\n",
        "  def fullname(self):\n",
        "    print(self.firstname,self.surname)\n",
        "  \n",
        "person = Person(\"Marc Jay\", \"Serenio\")\n",
        "person.fullname()\n",
        "\n",
        "class Teacher(Person):\n",
        "  pass\n",
        "\n",
        "person2 = Teacher(\"Maam\",\"Maria\")\n",
        "person2.fullname()\n",
        "\n",
        "\n",
        "class Student(Person):\n",
        "  pass\n",
        "\n",
        "person3 =Student(\"Marc\", \"Serenio\")\n",
        "person3.fullname()"
      ]
    },
    {
      "cell_type": "markdown",
      "metadata": {
        "id": "2ZjJmQI3XmKN"
      },
      "source": [
        "Polymorphism"
      ]
    },
    {
      "cell_type": "code",
      "execution_count": null,
      "metadata": {
        "colab": {
          "base_uri": "https://localhost:8080/"
        },
        "id": "vXrX2IvrXpvR",
        "outputId": "236411e6-eaf0-4be0-d41d-bf1dd8841d4c"
      },
      "outputs": [
        {
          "name": "stdout",
          "output_type": "stream",
          "text": [
            "16\n",
            "3.897\n"
          ]
        }
      ],
      "source": [
        "class RegularPolygon:\n",
        "  def __init__(self,side):\n",
        "    self.side = side\n",
        "class Square(RegularPolygon):\n",
        "  def area(self):\n",
        "    return self.side*self.side\n",
        "class EquilateralTriangle(RegularPolygon):\n",
        "  def area(self):\n",
        "    return self.side*self.side*0.433\n",
        "\n",
        "obj1 = Square(4)\n",
        "print(obj1.area())\n",
        "\n",
        "obj2 =EquilateralTriangle(3)\n",
        "print(obj2.area())\n"
      ]
    },
    {
      "cell_type": "markdown",
      "metadata": {
        "id": "TU_X63JXbm38"
      },
      "source": [
        "##Application 1\n",
        "\n",
        "1. Create a Python program that displays the name of three students ( Student 1, Student 2, and Student 3) and their term grades\n",
        "2. Create a class name Person and  attributes - std1,std2,std2,pre,mid,fin\n",
        "3. Compute the average of each term grade using Grade()method\n",
        "4. Information about student's grades must be hidden from others"
      ]
    },
    {
      "cell_type": "code",
      "source": [
        "class Student_grades:\n",
        "  def __init__(self, grades):\n",
        "    self.__grades = grades\n",
        "\n",
        "  def Exams(self):\n",
        "    print(f\"{self.__grades} pre,mid,fin \\n\")\n",
        "  def std1(self):\n",
        "    print(f\"{self.__grades} 1.25,1.50,1.50\")\n",
        "  def std2(self):\n",
        "    print(f\"{self.__grades} 1.27,1.50,1.75\")\n",
        "  def std3(self):\n",
        "    print(f\"{self.__grades} 1.50,1.0,1.25\")\n",
        "\n",
        "  def Terms(self):\n",
        "    print(f\"{self.__grades}Term Grade \\n\")\n",
        "  def student1(self):\n",
        "    print(f\"{self.__grades} 1.41\")\n",
        "  def student2(self):\n",
        "    print(f\"{self.__grades} 1.50\")\n",
        "  def student3(self):\n",
        "    print(f\"{self.__grades} 1.25\")\n",
        "\n",
        "qterm = Student_grades(\"Grading: \")\n",
        "S1_1 = Student_grades(\"Std1    \")\n",
        "S2_2 = Student_grades(\"Std2    \")\n",
        "S2_2 = Student_grades(\"Std3    \")\n",
        "wterm = Student_grades(\"Semester grade:\")\n",
        "\n",
        "qterm.Terms()\n",
        "S1_1.student1()\n",
        "S2_2.student2()\n",
        "S2_2.student3()\n",
        "\n",
        "wterm.Exams()\n",
        "S1_1.std1()\n",
        "S2_2.std2()\n",
        "S2_2.std3()"
      ],
      "metadata": {
        "colab": {
          "base_uri": "https://localhost:8080/"
        },
        "id": "nu6pbzWHwdsE",
        "outputId": "5de83dc7-e706-49f8-e097-33388425681a"
      },
      "execution_count": 5,
      "outputs": [
        {
          "output_type": "stream",
          "name": "stdout",
          "text": [
            "Grading: Term Grade \n",
            "\n",
            "Std1     1.41\n",
            "Std3     1.50\n",
            "Std3     1.25\n",
            "Semester grade: pre,mid,fin \n",
            "\n",
            "Std1     1.25,1.50,1.50\n",
            "Std3     1.27,1.50,1.75\n",
            "Std3     1.50,1.0,1.25\n"
          ]
        }
      ]
    },
    {
      "cell_type": "code",
      "source": [
        "class cal_average:\n",
        "  def __init__(self,std1,std2,std3,):\n",
        "    self.__std1 = std1\n",
        "    self.__std2 = std2\n",
        "    self.__std3 = std3\n",
        "\n",
        "  def std_1(self):\n",
        "    return (self.__std1 + self.__std2 + self.__std3)/3\n",
        "  def std_2(self):\n",
        "    return (self.__std1 + self.__std2 + self.__std3)/3\n",
        "  def std_3(self):\n",
        "    return (self.__std1 + self.__std2 + self.__std3)/3\n",
        "\n",
        "average1 = cal_average(1.25, 1.50, 1.50)\n",
        "average2 = cal_average(1.27,1.50,1.75)\n",
        "average3 = cal_average(1.50,1.0,1.25)\n",
        "\n",
        "print(average1.std_1())\n",
        "print(average2.std_2())\n",
        "print(average3.std_3())"
      ],
      "metadata": {
        "id": "VwutsRQRyPe9",
        "outputId": "2b7789fe-abe3-4a93-b9ac-5a85772f8885",
        "colab": {
          "base_uri": "https://localhost:8080/"
        }
      },
      "execution_count": 6,
      "outputs": [
        {
          "output_type": "stream",
          "name": "stdout",
          "text": [
            "1.4166666666666667\n",
            "1.5066666666666666\n",
            "1.25\n"
          ]
        }
      ]
    }
  ],
  "metadata": {
    "colab": {
      "collapsed_sections": [],
      "name": "OOP Concepts 2.ipynb",
      "provenance": [],
      "authorship_tag": "ABX9TyNPHeRkujFzVDPI6yX3X2oA",
      "include_colab_link": true
    },
    "kernelspec": {
      "display_name": "Python 3",
      "name": "python3"
    },
    "language_info": {
      "name": "python"
    }
  },
  "nbformat": 4,
  "nbformat_minor": 0
}