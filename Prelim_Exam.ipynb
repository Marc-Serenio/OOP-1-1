{
  "nbformat": 4,
  "nbformat_minor": 0,
  "metadata": {
    "colab": {
      "name": "Prelim Exam.ipynb",
      "provenance": [],
      "authorship_tag": "ABX9TyOjMUrb6Qh+byiht7Oy1zhK",
      "include_colab_link": true
    },
    "kernelspec": {
      "name": "python3",
      "display_name": "Python 3"
    },
    "language_info": {
      "name": "python"
    }
  },
  "cells": [
    {
      "cell_type": "markdown",
      "metadata": {
        "id": "view-in-github",
        "colab_type": "text"
      },
      "source": [
        "<a href=\"https://colab.research.google.com/github/Marc-Serenio/OOP-1-1/blob/main/Prelim_Exam.ipynb\" target=\"_parent\"><img src=\"https://colab.research.google.com/assets/colab-badge.svg\" alt=\"Open In Colab\"/></a>"
      ]
    },
    {
      "cell_type": "code",
      "source": [
        "class Student:\n",
        "  def __init__(self,name,student_no, age, school,course):\n",
        "    self.name = name\n",
        "    self.student_no = student_no\n",
        "    self.age = age\n",
        "    self.school = school\n",
        "    self.course = course\n",
        "  \n",
        "  def Info (self):\n",
        "    print(\"Name:  Marc Jay Serenio\")\n",
        "    print(\"Student_No : 202102057\")\n",
        "    print(\"Age:  19\")\n",
        "    print(\"School:  Cavite State University\")\n",
        "    print(\"Course:  BS Computer Engineering\")\n",
        "\n",
        "Myself = Student(\"Marc Jay Serenio\", \"202102057\" , \"19\", \"Cavite State University\", \"BS Computer Engineering\")\n",
        "Myself.Info()\n",
        "\n",
        "\n"
      ],
      "metadata": {
        "colab": {
          "base_uri": "https://localhost:8080/"
        },
        "id": "rlm3DwN2AjBm",
        "outputId": "9422e73f-5aca-4273-d3b4-bf9e4efb6fb7"
      },
      "execution_count": 32,
      "outputs": [
        {
          "output_type": "stream",
          "name": "stdout",
          "text": [
            "Name:  Marc Jay Serenio\n",
            "Student_No : 202102057\n",
            "Age:  19\n",
            "School:  Cavite State University\n",
            "Course:  BS Computer Engineering\n"
          ]
        }
      ]
    }
  ]
}